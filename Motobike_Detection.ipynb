{
 "cells": [
  {
   "cell_type": "code",
   "execution_count": null,
   "metadata": {
    "colab": {
     "base_uri": "https://localhost:8080/"
    },
    "executionInfo": {
     "elapsed": 6,
     "status": "ok",
     "timestamp": 1702533567250,
     "user": {
      "displayName": "Thanh San",
      "userId": "03155582136719482142"
     },
     "user_tz": -420
    },
    "id": "CjpPg4mGKc1v",
    "outputId": "65bfa036-03b4-4386-f96b-91111e35a9e7"
   },
   "outputs": [
    {
     "ename": "",
     "evalue": "",
     "output_type": "error",
     "traceback": [
      "\u001b[1;31mThe kernel failed to start as the Python Environment 'Python' is no longer available. Consider selecting another kernel or refreshing the list of Python Environments."
     ]
    }
   ],
   "source": [
    "import os\n",
    "HOME = os.getcwd()\n",
    "print(HOME)"
   ]
  },
  {
   "cell_type": "code",
   "execution_count": null,
   "metadata": {
    "colab": {
     "base_uri": "https://localhost:8080/"
    },
    "executionInfo": {
     "elapsed": 14382,
     "status": "ok",
     "timestamp": 1702533582012,
     "user": {
      "displayName": "Thanh San",
      "userId": "03155582136719482142"
     },
     "user_tz": -420
    },
    "id": "tdSMcABDNKW-",
    "outputId": "91c143cc-4e14-4ec0-dd1b-fe936ef6e509"
   },
   "outputs": [],
   "source": [
    "# Pip install method (recommended)\n",
    "\n",
    "!pip install ultralytics==8.0.196\n",
    "\n",
    "from IPython import display\n",
    "display.clear_output()\n",
    "\n",
    "import ultralytics\n",
    "ultralytics.checks()"
   ]
  },
  {
   "cell_type": "code",
   "execution_count": null,
   "metadata": {
    "id": "VOEYrlBoP9-E"
   },
   "outputs": [],
   "source": [
    "from ultralytics import YOLO\n",
    "\n",
    "from IPython.display import display, Image"
   ]
  },
  {
   "cell_type": "markdown",
   "metadata": {
    "id": "K33S7zlkQku0"
   },
   "source": [
    "If you want to train, validate or run inference on models and don't need to make any modifications to the code, using YOLO command line interface is the easiest way to get started. Read more about CLI in [Ultralytics YOLO Docs](https://v8docs.ultralytics.com/cli/).\n",
    "\n",
    "```\n",
    "yolo task=detect    mode=train    model=yolov8n.yaml      args...\n",
    "          classify       predict        yolov8n-cls.yaml  args...\n",
    "          segment        val            yolov8n-seg.yaml  args...\n",
    "                         export         yolov8n.pt        format=onnx  args...\n",
    "```"
   ]
  },
  {
   "cell_type": "code",
   "execution_count": null,
   "metadata": {
    "colab": {
     "base_uri": "https://localhost:8080/",
     "height": 1000
    },
    "executionInfo": {
     "elapsed": 44251,
     "status": "ok",
     "timestamp": 1702533626256,
     "user": {
      "displayName": "Thanh San",
      "userId": "03155582136719482142"
     },
     "user_tz": -420
    },
    "id": "BSd93ZJzZZKt",
    "outputId": "781fc022-b35c-4a5f-8f06-1f196c20f3a5"
   },
   "outputs": [],
   "source": [
    "!mkdir {HOME}/datasets\n",
    "%cd {HOME}/datasets\n",
    "!pip install roboflow\n",
    "\n",
    "from roboflow import Roboflow\n",
    "rf = Roboflow(api_key=\"a7ixfLNh5wtqHUYhxvQf\")\n",
    "project = rf.workspace(\"cdio-zmfmj\").project(\"motobike-detection\")\n",
    "dataset = project.version(10).download(\"yolov8\")"
   ]
  },
  {
   "cell_type": "code",
   "execution_count": null,
   "metadata": {
    "colab": {
     "base_uri": "https://localhost:8080/"
    },
    "executionInfo": {
     "elapsed": 2316654,
     "status": "ok",
     "timestamp": 1702541125406,
     "user": {
      "displayName": "Thanh San",
      "userId": "03155582136719482142"
     },
     "user_tz": -420
    },
    "id": "D2YkphuiaE7_",
    "outputId": "bf8ea729-8197-4fc0-eb7c-54e6a5144f3d"
   },
   "outputs": [],
   "source": [
    "%cd {HOME}\n",
    "\n",
    "!yolo task=detect mode=train model=yolov8m.pt data={dataset.location}/data.yaml epochs=75 imgsz=640 plots=True patience=50 batch=32"
   ]
  },
  {
   "cell_type": "code",
   "execution_count": null,
   "metadata": {
    "colab": {
     "base_uri": "https://localhost:8080/"
    },
    "executionInfo": {
     "elapsed": 6,
     "status": "ok",
     "timestamp": 1702541125407,
     "user": {
      "displayName": "Thanh San",
      "userId": "03155582136719482142"
     },
     "user_tz": -420
    },
    "id": "1MScstfHhArr",
    "outputId": "f508eea6-fabb-4afe-e59a-bf5b3ad4820f"
   },
   "outputs": [],
   "source": [
    "!ls {HOME}/runs/detect/train/"
   ]
  },
  {
   "cell_type": "code",
   "execution_count": null,
   "metadata": {
    "colab": {
     "base_uri": "https://localhost:8080/",
     "height": 17
    },
    "executionInfo": {
     "elapsed": 5,
     "status": "ok",
     "timestamp": 1702541145322,
     "user": {
      "displayName": "Thanh San",
      "userId": "03155582136719482142"
     },
     "user_tz": -420
    },
    "id": "pDGAvQyeMfGe",
    "outputId": "1fe5c834-1cc3-45d7-ed5c-e5dd4dad4ea7"
   },
   "outputs": [],
   "source": [
    "#export your model's weights for future use\n",
    "from google.colab import files\n",
    "files.download('/content/runs/detect/train/weights/best.pt')\n",
    "files.download('/content/runs/detect/train/weights/last.pt')"
   ]
  },
  {
   "cell_type": "code",
   "execution_count": null,
   "metadata": {
    "id": "rz9XfyryPAqo"
   },
   "outputs": [],
   "source": [
    "%cd {HOME}\n",
    "Image(filename=f'{HOME}/runs/detect/train/results.png', width=600)"
   ]
  },
  {
   "cell_type": "code",
   "execution_count": null,
   "metadata": {
    "id": "YpyuwrNlXc1P"
   },
   "outputs": [],
   "source": [
    "%cd {HOME}\n",
    "\n",
    "!yolo task=detect mode=val model={HOME}/runs/detect/train/weights/best.pt data={dataset.location}/data.yaml"
   ]
  },
  {
   "cell_type": "code",
   "execution_count": null,
   "metadata": {
    "colab": {
     "base_uri": "https://localhost:8080/",
     "height": 417
    },
    "executionInfo": {
     "elapsed": 13,
     "status": "ok",
     "timestamp": 1702347682848,
     "user": {
      "displayName": "Thanh San",
      "userId": "03155582136719482142"
     },
     "user_tz": -420
    },
    "id": "b8j8YPATSMjV",
    "outputId": "baae32c6-67d6-4934-aa43-d5e97fc74710"
   },
   "outputs": [],
   "source": [
    "Image(filename=f'{HOME}/runs/detect/val/P_curve.png', width=600)"
   ]
  },
  {
   "cell_type": "code",
   "execution_count": null,
   "metadata": {
    "colab": {
     "base_uri": "https://localhost:8080/"
    },
    "executionInfo": {
     "elapsed": 0,
     "status": "ok",
     "timestamp": 1702541145354,
     "user": {
      "displayName": "Thanh San",
      "userId": "03155582136719482142"
     },
     "user_tz": -420
    },
    "id": "Wjc1ctZykYuf",
    "outputId": "45bb97d3-6dfb-41b0-d41f-0f459f084533"
   },
   "outputs": [],
   "source": [
    "%cd {HOME}\n",
    "!yolo task=detect mode=predict model={HOME}/runs/detect/train/weights/best.pt conf=0.5 source={dataset.location}/test/images save=True save_txt=True"
   ]
  },
  {
   "cell_type": "code",
   "execution_count": null,
   "metadata": {
    "colab": {
     "base_uri": "https://localhost:8080/",
     "height": 1000,
     "output_embedded_package_id": "15GGcHVjzfXytxesU8-mRyVEmGaRoGHTB"
    },
    "executionInfo": {
     "elapsed": 73530,
     "status": "ok",
     "timestamp": 1702541218849,
     "user": {
      "displayName": "Thanh San",
      "userId": "03155582136719482142"
     },
     "user_tz": -420
    },
    "id": "jbVjEtPAkz3j",
    "outputId": "324e8522-eb8f-4df1-93d2-95ae197835ff"
   },
   "outputs": [],
   "source": [
    "import glob\n",
    "from IPython.display import Image, display\n",
    "\n",
    "for image_path in glob.glob(f'{HOME}/runs/detect/predict/*.jpg'):\n",
    "      display(Image(filename=image_path, width=600))\n",
    "      print(\"\\n\")"
   ]
  },
  {
   "cell_type": "code",
   "execution_count": null,
   "metadata": {
    "colab": {
     "base_uri": "https://localhost:8080/"
    },
    "executionInfo": {
     "elapsed": 5,
     "status": "ok",
     "timestamp": 1702541219141,
     "user": {
      "displayName": "Thanh San",
      "userId": "03155582136719482142"
     },
     "user_tz": -420
    },
    "id": "tmM0fTMSeOi1",
    "outputId": "1fca3aa5-1b3f-4762-b8ae-e596352280c8"
   },
   "outputs": [],
   "source": [
    "project.version(dataset.version).deploy(model_type=\"yolov8\", model_path=f\"{HOME}/runs/detect/train/\")"
   ]
  }
 ],
 "metadata": {
  "accelerator": "GPU",
  "colab": {
   "provenance": [
    {
     "file_id": "1Ve-JZas7EUVAy3Z88yjAWmg1X77bztRU",
     "timestamp": 1699357733508
    }
   ]
  },
  "gpuClass": "standard",
  "kernelspec": {
   "display_name": "Python 3",
   "name": "python3"
  },
  "language_info": {
   "name": "python"
  }
 },
 "nbformat": 4,
 "nbformat_minor": 0
}
